{
 "cells": [
  {
   "cell_type": "code",
   "id": "initial_id",
   "metadata": {},
   "source": [
    "from definitions import Nomino\n",
    "\n",
    "nominos = Nomino.from_json('../data/parsed.json')"
   ],
   "outputs": [],
   "execution_count": null
  },
  {
   "cell_type": "code",
   "id": "3814e729a7718ea5",
   "metadata": {
    "collapsed": false
   },
   "source": [
    "from matplotlib import pyplot as plt\n",
    "import seaborn as sns\n",
    "from collections import Counter\n",
    "\n",
    "\n",
    "sns.set_style(\"whitegrid\")  # Optional: Set a style for the plot\n",
    "palette = sns.color_palette('Set2', 9)\n",
    "palette = [*palette, (0.33, 0.33, 0.33)]\n",
    "\n",
    "counter = Counter([n.subject_concord for n in nominos])\n",
    "keys, values = zip(*sorted([(k, v) for k, v in counter.items() if v > 80], key=lambda x:x[1], reverse=True))\n",
    "clses = ['1/2', '9/10', '11|14', '7/8', '3/4', '5/6', '4|9', '(11|14)/10', '7/8']\n",
    "clses = [c + ' ' * (max(map(len, clses)) - len(c)) for c in clses]\n",
    "# keys = [f'{k} {c}' for k, c in zip(keys, clses)]\n",
    "keys = [*keys, 'other']\n",
    "# keys = [k + ' ' * (max(map(len, keys)) - len(k)) for k in keys]\n",
    "\n",
    "values = [*values, sum(v for v in counter.values() if v <= 80)]\n",
    "pcts = [v / sum(values) for v in values]\n",
    "\n",
    "plt.figure(figsize=(8, 6))\n",
    "\n",
    "ax = sns.barplot(x=values, y=keys, palette=palette, hue=keys, width=0.8, dodge=False, saturation=0.9)\n",
    "\n",
    "plt.grid(True, axis='x', alpha=0.3)\n",
    "plt.xticks(fontsize=14)\n",
    "plt.yticks(fontsize=14, style='italic')\n",
    "for idx, pct in enumerate(pcts):\n",
    "    plt.text(values[idx] + 10, idx, f'{(pct * 100):.1f}%')\n",
    "for idx, cls in enumerate(clses):\n",
    "    plt.text(-140, idx + 0.45, cls)\n",
    "\n",
    "ax.spines['top'].set_visible(False)\n",
    "ax.spines['right'].set_visible(False)\n",
    "plt.tight_layout()\n",
    "plt.savefig('../data/class_distribution.pdf')"
   ],
   "outputs": [],
   "execution_count": null
  }
 ],
 "metadata": {
  "kernelspec": {
   "display_name": "Python 3 (ipykernel)",
   "language": "python",
   "name": "python3"
  },
  "language_info": {
   "codemirror_mode": {
    "name": "ipython",
    "version": 3
   },
   "file_extension": ".py",
   "mimetype": "text/x-python",
   "name": "python",
   "nbconvert_exporter": "python",
   "pygments_lexer": "ipython3",
   "version": "3.11.9"
  }
 },
 "nbformat": 4,
 "nbformat_minor": 5
}
