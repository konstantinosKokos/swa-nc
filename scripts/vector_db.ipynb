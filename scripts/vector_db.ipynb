{
 "cells": [
  {
   "cell_type": "code",
   "execution_count": 1,
   "id": "initial_id",
   "metadata": {
    "collapsed": true,
    "ExecuteTime": {
     "end_time": "2024-07-08T16:17:10.646687622Z",
     "start_time": "2024-07-08T16:17:06.759567901Z"
    }
   },
   "outputs": [
    {
     "name": "stdout",
     "output_type": "stream",
     "text": [
      "Read 82115 synsets.\n"
     ]
    }
   ],
   "source": [
    "import nltk\n",
    "from nltk.corpus import wordnet as wn\n",
    "nltk.data.path.append('../data')  # noqa\n",
    "\n",
    "all_synsets = wn.all_synsets(pos=wn.NOUN)\n",
    "all_synsets = sorted(all_synsets, key=lambda x: len(x.definition()))\n",
    "print(f'Read {len(all_synsets)} synsets.')"
   ]
  },
  {
   "cell_type": "code",
   "outputs": [
    {
     "name": "stdout",
     "output_type": "stream",
     "text": [
      "Encoding...\n",
      "Done.\n"
     ]
    }
   ],
   "source": [
    "from tokenization import get_tokenizer, encode\n",
    "print('Encoding...')\n",
    "tokenizer = get_tokenizer('sentence-transformers/all-MiniLM-L12-v2')\n",
    "tokenized_synsets = [(synset, encode(tokenizer, f'{synset.lemmas()[0].name()}, {synset.definition()}')) for synset in all_synsets]\n",
    "print(f'Done.')"
   ],
   "metadata": {
    "collapsed": false,
    "ExecuteTime": {
     "end_time": "2024-07-08T16:17:25.775174722Z",
     "start_time": "2024-07-08T16:17:11.273637934Z"
    }
   },
   "id": "dd64602b44f6ba92",
   "execution_count": 2
  },
  {
   "cell_type": "code",
   "outputs": [
    {
     "name": "stdout",
     "output_type": "stream",
     "text": [
      "Vectorizing synsets...\n"
     ]
    },
    {
     "name": "stderr",
     "output_type": "stream",
     "text": [
      "\n",
      "\n",
      "  0%|          | 0/81 [00:00<?, ?it/s]\u001B[A\u001B[A\n",
      "\n",
      "  1%|          | 1/81 [00:03<04:06,  3.08s/it]\u001B[A\u001B[A\n",
      "\n",
      "  2%|▏         | 2/81 [00:05<03:44,  2.84s/it]\u001B[A\u001B[A\n",
      "\n",
      "  4%|▎         | 3/81 [00:08<03:55,  3.02s/it]\u001B[A\u001B[A\n",
      "\n",
      "  5%|▍         | 4/81 [00:12<04:13,  3.29s/it]\u001B[A\u001B[A\n",
      "\n",
      "  6%|▌         | 5/81 [00:16<04:32,  3.59s/it]\u001B[A\u001B[A\n",
      "\n",
      "  7%|▋         | 6/81 [00:20<04:28,  3.58s/it]\u001B[A\u001B[A\n",
      "\n",
      "  9%|▊         | 7/81 [00:23<04:17,  3.48s/it]\u001B[A\u001B[A\n",
      "\n",
      " 10%|▉         | 8/81 [00:27<04:18,  3.54s/it]\u001B[A\u001B[A\n",
      "\n",
      " 11%|█         | 9/81 [00:30<04:09,  3.47s/it]\u001B[A\u001B[A\n",
      "\n",
      " 12%|█▏        | 10/81 [00:34<04:04,  3.45s/it]\u001B[A\u001B[A\n",
      "\n",
      " 14%|█▎        | 11/81 [00:37<03:58,  3.40s/it]\u001B[A\u001B[A\n",
      "\n",
      " 15%|█▍        | 12/81 [00:40<03:59,  3.47s/it]\u001B[A\u001B[A\n",
      "\n",
      " 16%|█▌        | 13/81 [00:44<04:00,  3.53s/it]\u001B[A\u001B[A\n",
      "\n",
      " 17%|█▋        | 14/81 [00:47<03:49,  3.42s/it]\u001B[A\u001B[A\n",
      "\n",
      " 19%|█▊        | 15/81 [00:51<03:44,  3.40s/it]\u001B[A\u001B[A\n",
      "\n",
      " 20%|█▉        | 16/81 [00:54<03:43,  3.44s/it]\u001B[A\u001B[A\n",
      "\n",
      " 21%|██        | 17/81 [00:58<03:56,  3.70s/it]\u001B[A\u001B[A\n",
      "\n",
      " 22%|██▏       | 18/81 [01:02<03:53,  3.71s/it]\u001B[A\u001B[A\n",
      "\n",
      " 23%|██▎       | 19/81 [01:08<04:36,  4.45s/it]\u001B[A\u001B[A\n",
      "\n",
      " 25%|██▍       | 20/81 [01:13<04:32,  4.47s/it]\u001B[A\u001B[A\n",
      "\n",
      " 26%|██▌       | 21/81 [01:18<04:33,  4.56s/it]\u001B[A\u001B[A\n",
      "\n",
      " 27%|██▋       | 22/81 [01:22<04:33,  4.64s/it]\u001B[A\u001B[A\n",
      "\n",
      " 28%|██▊       | 23/81 [01:27<04:30,  4.66s/it]\u001B[A\u001B[A\n",
      "\n",
      " 30%|██▉       | 24/81 [01:32<04:22,  4.61s/it]\u001B[A\u001B[A\n",
      "\n",
      " 31%|███       | 25/81 [01:37<04:23,  4.70s/it]\u001B[A\u001B[A\n",
      "\n",
      " 32%|███▏      | 26/81 [01:41<04:12,  4.59s/it]\u001B[A\u001B[A\n",
      "\n",
      " 33%|███▎      | 27/81 [01:45<04:06,  4.56s/it]\u001B[A\u001B[A\n",
      "\n",
      " 35%|███▍      | 28/81 [01:50<04:05,  4.62s/it]\u001B[A\u001B[A\n",
      "\n",
      " 36%|███▌      | 29/81 [01:55<03:56,  4.55s/it]\u001B[A\u001B[A\n",
      "\n",
      " 37%|███▋      | 30/81 [01:59<03:49,  4.50s/it]\u001B[A\u001B[A\n",
      "\n",
      " 38%|███▊      | 31/81 [02:04<03:56,  4.72s/it]\u001B[A\u001B[A\n",
      "\n",
      " 40%|███▉      | 32/81 [02:09<03:57,  4.84s/it]\u001B[A\u001B[A\n",
      "\n",
      " 41%|████      | 33/81 [02:15<03:57,  4.96s/it]\u001B[A\u001B[A\n",
      "\n",
      " 42%|████▏     | 34/81 [02:20<03:59,  5.10s/it]\u001B[A\u001B[A\n",
      "\n",
      " 43%|████▎     | 35/81 [02:25<03:49,  4.98s/it]\u001B[A\u001B[A\n",
      "\n",
      " 44%|████▍     | 36/81 [02:30<03:46,  5.04s/it]\u001B[A\u001B[A\n",
      "\n",
      " 46%|████▌     | 37/81 [02:36<03:55,  5.35s/it]\u001B[A\u001B[A\n",
      "\n",
      " 47%|████▋     | 38/81 [02:41<03:43,  5.20s/it]\u001B[A\u001B[A\n",
      "\n",
      " 48%|████▊     | 39/81 [02:46<03:38,  5.20s/it]\u001B[A\u001B[A\n",
      "\n",
      " 49%|████▉     | 40/81 [02:51<03:27,  5.07s/it]\u001B[A\u001B[A\n",
      "\n",
      " 51%|█████     | 41/81 [02:57<03:31,  5.29s/it]\u001B[A\u001B[A\n",
      "\n",
      " 52%|█████▏    | 42/81 [03:02<03:26,  5.30s/it]\u001B[A\u001B[A\n",
      "\n",
      " 53%|█████▎    | 43/81 [03:07<03:24,  5.39s/it]\u001B[A\u001B[A\n",
      "\n",
      " 54%|█████▍    | 44/81 [03:14<03:26,  5.58s/it]\u001B[A\u001B[A\n",
      "\n",
      " 56%|█████▌    | 45/81 [03:20<03:32,  5.90s/it]\u001B[A\u001B[A\n",
      "\n",
      " 57%|█████▋    | 46/81 [03:25<03:18,  5.69s/it]\u001B[A\u001B[A\n",
      "\n",
      " 58%|█████▊    | 47/81 [03:31<03:12,  5.65s/it]\u001B[A\u001B[A\n",
      "\n",
      " 59%|█████▉    | 48/81 [03:36<03:04,  5.61s/it]\u001B[A\u001B[A\n",
      "\n",
      " 60%|██████    | 49/81 [03:42<03:02,  5.70s/it]\u001B[A\u001B[A\n",
      "\n",
      " 62%|██████▏   | 50/81 [03:48<02:57,  5.73s/it]\u001B[A\u001B[A\n",
      "\n",
      " 63%|██████▎   | 51/81 [03:54<02:56,  5.87s/it]\u001B[A\u001B[A\n",
      "\n",
      " 64%|██████▍   | 52/81 [04:01<02:53,  5.99s/it]\u001B[A\u001B[A\n",
      "\n",
      " 65%|██████▌   | 53/81 [04:07<02:53,  6.20s/it]\u001B[A\u001B[A\n",
      "\n",
      " 67%|██████▋   | 54/81 [04:13<02:47,  6.19s/it]\u001B[A\u001B[A\n",
      "\n",
      " 68%|██████▊   | 55/81 [04:21<02:47,  6.46s/it]\u001B[A\u001B[A\n",
      "\n",
      " 69%|██████▉   | 56/81 [04:29<02:55,  7.01s/it]\u001B[A\u001B[A\n",
      "\n",
      " 70%|███████   | 57/81 [04:36<02:49,  7.04s/it]\u001B[A\u001B[A\n",
      "\n",
      " 72%|███████▏  | 58/81 [04:42<02:32,  6.65s/it]\u001B[A\u001B[A\n",
      "\n",
      " 73%|███████▎  | 59/81 [04:48<02:24,  6.56s/it]\u001B[A\u001B[A\n",
      "\n",
      " 74%|███████▍  | 60/81 [04:55<02:18,  6.61s/it]\u001B[A\u001B[A\n",
      "\n",
      " 75%|███████▌  | 61/81 [05:02<02:16,  6.81s/it]\u001B[A\u001B[A\n",
      "\n",
      " 77%|███████▋  | 62/81 [05:10<02:16,  7.17s/it]\u001B[A\u001B[A\n",
      "\n",
      " 78%|███████▊  | 63/81 [05:17<02:09,  7.22s/it]\u001B[A\u001B[A\n",
      "\n",
      " 79%|███████▉  | 64/81 [05:26<02:07,  7.50s/it]\u001B[A\u001B[A\n",
      "\n",
      " 80%|████████  | 65/81 [05:33<02:01,  7.59s/it]\u001B[A\u001B[A\n",
      "\n",
      " 81%|████████▏ | 66/81 [05:40<01:49,  7.28s/it]\u001B[A\u001B[A\n",
      "\n",
      " 83%|████████▎ | 67/81 [05:47<01:41,  7.27s/it]\u001B[A\u001B[A\n",
      "\n",
      " 84%|████████▍ | 68/81 [05:54<01:33,  7.23s/it]\u001B[A\u001B[A\n",
      "\n",
      " 85%|████████▌ | 69/81 [06:02<01:28,  7.38s/it]\u001B[A\u001B[A\n",
      "\n",
      " 86%|████████▋ | 70/81 [06:10<01:22,  7.51s/it]\u001B[A\u001B[A\n",
      "\n",
      " 88%|████████▊ | 71/81 [06:19<01:19,  7.91s/it]\u001B[A\u001B[A\n",
      "\n",
      " 89%|████████▉ | 72/81 [06:26<01:10,  7.83s/it]\u001B[A\u001B[A\n",
      "\n",
      " 90%|█████████ | 73/81 [06:34<01:02,  7.83s/it]\u001B[A\u001B[A\n",
      "\n",
      " 91%|█████████▏| 74/81 [06:42<00:55,  7.90s/it]\u001B[A\u001B[A\n",
      "\n",
      " 93%|█████████▎| 75/81 [06:51<00:48,  8.16s/it]\u001B[A\u001B[A\n",
      "\n",
      " 94%|█████████▍| 76/81 [06:59<00:41,  8.27s/it]\u001B[A\u001B[A\n",
      "\n",
      " 95%|█████████▌| 77/81 [07:09<00:34,  8.69s/it]\u001B[A\u001B[A\n",
      "\n",
      " 96%|█████████▋| 78/81 [07:18<00:26,  8.73s/it]\u001B[A\u001B[A\n",
      "\n",
      " 98%|█████████▊| 79/81 [07:28<00:18,  9.07s/it]\u001B[A\u001B[A\n",
      "\n",
      " 99%|█████████▉| 80/81 [07:41<00:10, 10.22s/it]\u001B[A\u001B[A\n",
      "\n",
      "100%|██████████| 81/81 [07:46<00:00,  5.76s/it]\u001B[A\u001B[A\n"
     ]
    }
   ],
   "source": [
    "import torch\n",
    "from torch.utils.data import DataLoader\n",
    "from torch.nn.utils.rnn import pad_sequence\n",
    "\n",
    "DEVICE = 'cpu'\n",
    "\n",
    "cfn = (\n",
    "    lambda xs:\n",
    "    ([s for s, _ in xs],\n",
    "     pad_sequence([torch.tensor(x) for _, x in xs], batch_first=True, padding_value=0).to(DEVICE)\n",
    "     )\n",
    ")\n",
    "\n",
    "synset_dl = DataLoader(\n",
    "    tokenized_synsets,\n",
    "    shuffle=False,\n",
    "    batch_size=1024,\n",
    "    collate_fn=cfn\n",
    ")\n",
    "\n",
    "from model_wrappers import SBERT\n",
    "from tqdm.notebook import tqdm\n",
    "\n",
    "vectorizer = SBERT().to(DEVICE)\n",
    "vectorizer.eval()\n",
    "\n",
    "print('Vectorizing synsets...')\n",
    "with torch.no_grad():\n",
    "    synset_vectors = [\n",
    "        (synset.name(), vector)\n",
    "        for synsets, xs in tqdm(synset_dl)\n",
    "        for synset, vector in zip(synsets, vectorizer(xs).cpu())\n",
    "    ]"
   ],
   "metadata": {
    "collapsed": false,
    "ExecuteTime": {
     "end_time": "2024-07-08T16:26:00.083065782Z",
     "start_time": "2024-07-08T16:18:13.341810308Z"
    }
   },
   "id": "fde5974fc33dcca0",
   "execution_count": 7
  },
  {
   "cell_type": "code",
   "outputs": [
    {
     "name": "stdout",
     "output_type": "stream",
     "text": [
      "Read 6192 nominos.\n",
      "Vectorizing nominos...\n"
     ]
    },
    {
     "name": "stderr",
     "output_type": "stream",
     "text": [
      "\n",
      "\n",
      "  0%|          | 0/7 [00:00<?, ?it/s]\u001B[A\u001B[A\n",
      "\n",
      " 14%|█▍        | 1/7 [00:04<00:26,  4.48s/it]\u001B[A\u001B[A\n",
      "\n",
      " 29%|██▊       | 2/7 [00:11<00:30,  6.12s/it]\u001B[A\u001B[A\n",
      "\n",
      " 43%|████▎     | 3/7 [00:17<00:23,  5.88s/it]\u001B[A\u001B[A\n",
      "\n",
      " 57%|█████▋    | 4/7 [00:21<00:16,  5.38s/it]\u001B[A\u001B[A\n",
      "\n",
      " 71%|███████▏  | 5/7 [00:27<00:10,  5.42s/it]\u001B[A\u001B[A\n",
      "\n",
      " 86%|████████▌ | 6/7 [00:31<00:05,  5.05s/it]\u001B[A\u001B[A\n",
      "\n",
      "100%|██████████| 7/7 [00:31<00:00,  4.57s/it]\u001B[A\u001B[A\n"
     ]
    }
   ],
   "source": [
    "import pickle\n",
    "\n",
    "with open('../data/tokenized.p', 'rb') as f:\n",
    "    (tokenized_nominos, _) = pickle.load(f)\n",
    "    tokenized_nominos = [(x, y) for x, y, _ in tokenized_nominos]\n",
    "print(f'Read {len(tokenized_nominos)} nominos.')\n",
    "\n",
    "nomino_dl = DataLoader(\n",
    "    tokenized_nominos,\n",
    "    shuffle=False,\n",
    "    batch_size=1024,\n",
    "    collate_fn=cfn\n",
    ")\n",
    "\n",
    "print('Vectorizing nominos...')\n",
    "with torch.no_grad():\n",
    "    nomino_vectors = [\n",
    "        (nomino, vector)\n",
    "        for nominos, xs in tqdm(nomino_dl)\n",
    "        for nomino, vector in zip(nominos, vectorizer(xs).cpu())\n",
    "    ]"
   ],
   "metadata": {
    "collapsed": false,
    "ExecuteTime": {
     "end_time": "2024-07-08T16:26:39.178123628Z",
     "start_time": "2024-07-08T16:26:07.200760546Z"
    }
   },
   "id": "24688904385d52a8",
   "execution_count": 8
  },
  {
   "cell_type": "code",
   "outputs": [],
   "source": [
    "similarities = torch.stack([x for _, x in nomino_vectors]) @ torch.stack([x for _, x in synset_vectors]).t()\n",
    "\n",
    "\n",
    "with open('../data/sim_matrix.p', 'wb') as f:\n",
    "    pickle.dump(([n for n, _ in nomino_vectors], [s for s, _ in synset_vectors], similarities), f)\n"
   ],
   "metadata": {
    "collapsed": false,
    "ExecuteTime": {
     "end_time": "2024-07-08T16:27:04.711187058Z",
     "start_time": "2024-07-08T16:27:00.318834405Z"
    }
   },
   "id": "bab9818d1c99a49b",
   "execution_count": 9
  }
 ],
 "metadata": {
  "kernelspec": {
   "display_name": "Python 3",
   "language": "python",
   "name": "python3"
  },
  "language_info": {
   "codemirror_mode": {
    "name": "ipython",
    "version": 2
   },
   "file_extension": ".py",
   "mimetype": "text/x-python",
   "name": "python",
   "nbconvert_exporter": "python",
   "pygments_lexer": "ipython2",
   "version": "2.7.6"
  }
 },
 "nbformat": 4,
 "nbformat_minor": 5
}
