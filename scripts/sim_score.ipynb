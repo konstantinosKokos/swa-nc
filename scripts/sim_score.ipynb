{
 "cells": [
  {
   "cell_type": "code",
   "id": "initial_id",
   "metadata": {
    "collapsed": true
   },
   "source": [
    "import pickle\n",
    "import nltk\n",
    "from nltk.corpus import wordnet as wn\n",
    "from nltk.corpus.reader.wordnet import Synset\n",
    "nltk.data.path.append('../data')  # noqa\n",
    "from tqdm.notebook import tqdm\n",
    "\n",
    "\n",
    "with open('../data/sim_matrix.p', 'rb') as f:\n",
    "    nominos, synsets, similarities = pickle.load(f)\n",
    "\n",
    "\n",
    "values, indices = similarities.sort(dim=1, descending=True)"
   ],
   "outputs": [],
   "execution_count": null
  },
  {
   "cell_type": "code",
   "source": [
    "groups = []\n",
    "for n_idx, nomino in enumerate(tqdm(nominos)):\n",
    "    most_sim = values[n_idx][0].item()\n",
    "    matches = []\n",
    "    for k in range(len(indices)):\n",
    "        if (v := values[n_idx][k].item()) < 0.5 or k > 10:\n",
    "            break\n",
    "        matches.append((v, (s := wn.synset(synsets[indices[n_idx, k]]))))\n",
    "    if matches:\n",
    "        groups.append((nomino, matches))"
   ],
   "metadata": {
    "collapsed": false
   },
   "id": "5bb9d549697241c5",
   "outputs": [],
   "execution_count": null
  },
  {
   "cell_type": "code",
   "source": [
    "next(g for g in groups if g[0].entry == 'yahe')"
   ],
   "metadata": {
    "collapsed": false
   },
   "id": "37feeb1c01b7cd10",
   "outputs": [],
   "execution_count": null
  },
  {
   "cell_type": "code",
   "source": [
    "from collections import Counter, defaultdict\n",
    "from pprint import pprint\n",
    "\n",
    "def get_hypers(xs: list[Synset], min_depth: int = 0, max_depth: int = -1) -> dict[Synset, float]:\n",
    "    hypers = [h for x in xs for hs in x.hypernym_paths() for h in hs]\n",
    "    return {hyper: count / len(hypers) for hyper, count in Counter(hypers).items() if count} \n",
    "    # hyperss = [{h for path in x.hypernym_paths() for h in path[min_depth:max_depth]} for x in xs]\n",
    "    # counter = Counter([hyper for hypers in hyperss for hyper in hypers])\n",
    "    # return {hyper: count / len(xs) for hyper, count in counter.items() if count >= 0.15 * len(xs)}\n",
    "\n",
    "\n",
    "concord_to_synset_counts = defaultdict(lambda: defaultdict(lambda: 0))\n",
    "synset_to_concord_counts = defaultdict(lambda: defaultdict(lambda: 0))\n",
    "synset_global_counts = defaultdict(lambda: 0)\n",
    "\n",
    "for nomino, matches in tqdm(groups):\n",
    "    hypers = get_hypers([match for _, match in matches])\n",
    "    for hyper, value in hypers.items():\n",
    "        concord_to_synset_counts[nomino.subject_concord][hyper] = concord_to_synset_counts[nomino.subject_concord][hyper] + value\n",
    "        synset_to_concord_counts[hyper][nomino.subject_concord] = synset_to_concord_counts[hyper][nomino.subject_concord] + value\n",
    "        synset_global_counts[hyper] += 1\n",
    "   "
   ],
   "metadata": {
    "collapsed": false
   },
   "id": "101c4fdab19fc147",
   "outputs": [],
   "execution_count": null
  },
  {
   "cell_type": "code",
   "source": [
    "concord_to_synset_counts['u-/i-']"
   ],
   "metadata": {
    "collapsed": false
   },
   "id": "12adb66f26d97d1d",
   "outputs": [],
   "execution_count": null
  },
  {
   "cell_type": "code",
   "source": [
    "from math import log2 as log\n",
    "\n",
    "threshold = 10\n",
    "\n",
    "concord_norms = {concord: sum(vs.values()) for concord, vs in concord_to_synset_counts.items()}\n",
    "\n",
    "synset_norms = {synset: sum(vs.values()) for synset, vs in synset_to_concord_counts.items()}\n",
    "norm = sum(concord_norms.values())\n",
    "log_norm = log(norm)\n",
    "\n",
    "joint = {concord: {k: (log(v) - log_norm) for k, v in synset_counts.items() if synset_global_counts[k] > threshold} for concord, synset_counts in concord_to_synset_counts.items()}\n",
    "\n",
    "pmi = defaultdict(lambda: defaultdict(lambda: 0))\n",
    "for concord, synset_ps in joint.items():\n",
    "    for synset, value in synset_ps.items():\n",
    "        pmi[concord][synset] = (concord_to_synset_counts[concord][synset]/norm) * (value - (log(concord_norms[concord]) + log(synset_norms[synset]) - 2 * log_norm))\n",
    "\n",
    "pmi = {concord: sorted([(k, v) for k, v in synset_counts.items()], key=lambda x: x[1], reverse=True) for concord, synset_counts in pmi.items()}"
   ],
   "metadata": {
    "collapsed": false
   },
   "id": "36d0a11f0e0ec295",
   "outputs": [],
   "execution_count": null
  },
  {
   "cell_type": "code",
   "source": [
    "ks1 = {k for k, _ in pmi['i-/zi-'][:20]}\n",
    "ks2 = {k for k, _ in pmi['ki-/vi-'][:20]}\n",
    "ks3 = {k for k, _ in pmi['li-/ya-'][:20]}\n",
    "ks4 = {k for k, _ in pmi['i-'][:20]}\n",
    "ks5 = {k for k, _ in pmi['ya-'][:20]}\n",
    "\n",
    "print(ks1&ks2&ks3)"
   ],
   "metadata": {
    "collapsed": false
   },
   "id": "4d1c5a2dd0b026a9",
   "outputs": [],
   "execution_count": null
  },
  {
   "cell_type": "code",
   "source": [
    "def bold(x: float) -> str:\n",
    "    if x < 1.:\n",
    "        return f'{x:.1f}'\n",
    "    return '\\\\textbf{' + f'{x:.1f}' + '}'\n",
    "\n",
    "\n",
    "def pp(k: Synset, ks: list[Synset], v: float) -> str:\n",
    "\n",
    "    \n",
    "    if any (k0 in k.hypernyms() for k0 in ks):\n",
    "        return '\\\\textcolor{gray!80}{' + k.name()+ f'~({bold(v * 100)})' + '}' \n",
    "    return k.name() + '~' + f'({bold(v * 100)})'\n",
    "  \n",
    "\n",
    "# print(f'{sum((v for concord in pmi.keys() for _, v in pmi[concord]))   :.3f}')\n",
    "\n",
    "for concord in ['a-/wa-', 'i-/zi-', 'u-', 'ki-/vi-', 'u-/i-', 'li-/ya-', 'ya-', 'u-/zi-', 'i-']:\n",
    "    print(concord)\n",
    "    print(f'{sum((v for _, v in pmi[concord])) * 1 :.3f}')\n",
    "    print(', '.join(\n",
    "        pp(k, [k for k, _ in pmi[concord][:idx]], v) \n",
    "        for idx, (k, v) in enumerate(pmi[concord][:20])\n",
    "        # if not any(k0 in k.hypernyms() for k0, _ in pmi[concord][:idx])\n",
    "    ).replace('_', '\\_'))"
   ],
   "metadata": {
    "collapsed": false
   },
   "id": "1fe11e819671f206",
   "outputs": [],
   "execution_count": null
  },
  {
   "cell_type": "code",
   "source": [
    "Synset.h"
   ],
   "metadata": {
    "collapsed": false
   },
   "id": "cd14a4a1f2f35a5d",
   "outputs": [],
   "execution_count": null
  }
 ],
 "metadata": {
  "kernelspec": {
   "display_name": "Python 3",
   "language": "python",
   "name": "python3"
  },
  "language_info": {
   "codemirror_mode": {
    "name": "ipython",
    "version": 2
   },
   "file_extension": ".py",
   "mimetype": "text/x-python",
   "name": "python",
   "nbconvert_exporter": "python",
   "pygments_lexer": "ipython2",
   "version": "2.7.6"
  }
 },
 "nbformat": 4,
 "nbformat_minor": 5
}
