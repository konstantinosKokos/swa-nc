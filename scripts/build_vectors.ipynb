{
 "cells": [
  {
   "cell_type": "code",
   "id": "initial_id",
   "metadata": {
    "collapsed": true
   },
   "source": [
    "import nltk\n",
    "from nltk.corpus import wordnet as wn\n",
    "nltk.data.path.append('../data')  # noqa\n",
    "\n",
    "all_synsets = wn.all_synsets(pos=wn.NOUN)\n",
    "all_synsets = sorted(all_synsets, key=lambda x: len(x.definition()))\n",
    "print(f'Read {len(all_synsets)} synsets.')"
   ],
   "outputs": [],
   "execution_count": null
  },
  {
   "cell_type": "code",
   "source": [
    "from tokenization import get_tokenizer, encode\n",
    "print('Encoding...')\n",
    "tokenizer = get_tokenizer('sentence-transformers/all-MiniLM-L12-v2')\n",
    "tokenized_synsets = [(synset, encode(tokenizer, f'{synset.lemmas()[0].name()}, {synset.definition()}')) for synset in all_synsets]\n",
    "print(f'Done.')"
   ],
   "metadata": {
    "collapsed": false
   },
   "id": "dd64602b44f6ba92",
   "outputs": [],
   "execution_count": null
  },
  {
   "cell_type": "code",
   "source": [
    "import torch\n",
    "from torch.utils.data import DataLoader\n",
    "from torch.nn.utils.rnn import pad_sequence\n",
    "\n",
    "DEVICE = 'cpu'\n",
    "\n",
    "cfn = (\n",
    "    lambda xs:\n",
    "    ([s for s, _ in xs],\n",
    "     pad_sequence([torch.tensor(x) for _, x in xs], batch_first=True, padding_value=0).to(DEVICE)\n",
    "     )\n",
    ")\n",
    "\n",
    "synset_dl = DataLoader(\n",
    "    tokenized_synsets,\n",
    "    shuffle=False,\n",
    "    batch_size=1024,\n",
    "    collate_fn=cfn\n",
    ")\n",
    "\n",
    "from model_wrappers import SBERT\n",
    "from tqdm.notebook import tqdm\n",
    "\n",
    "vectorizer = SBERT().to(DEVICE)\n",
    "vectorizer.eval()\n",
    "\n",
    "print('Vectorizing synsets...')\n",
    "with torch.no_grad():\n",
    "    synset_vectors = [\n",
    "        (synset.name(), vector)\n",
    "        for synsets, xs in tqdm(synset_dl)\n",
    "        for synset, vector in zip(synsets, vectorizer(xs).cpu())\n",
    "    ]"
   ],
   "metadata": {
    "collapsed": false
   },
   "id": "fde5974fc33dcca0",
   "outputs": [],
   "execution_count": null
  },
  {
   "cell_type": "code",
   "source": [
    "import pickle\n",
    "\n",
    "with open('../data/tokenized.p', 'rb') as f:\n",
    "    (tokenized_nominos, _) = pickle.load(f)\n",
    "    tokenized_nominos = [(x, y) for x, y, _ in tokenized_nominos]\n",
    "print(f'Read {len(tokenized_nominos)} nominos.')\n",
    "\n",
    "nomino_dl = DataLoader(\n",
    "    tokenized_nominos,\n",
    "    shuffle=False,\n",
    "    batch_size=1024,\n",
    "    collate_fn=cfn\n",
    ")\n",
    "\n",
    "print('Vectorizing nominos...')\n",
    "with torch.no_grad():\n",
    "    nomino_vectors = [\n",
    "        (nomino, vector)\n",
    "        for nominos, xs in tqdm(nomino_dl)\n",
    "        for nomino, vector in zip(nominos, vectorizer(xs).cpu())\n",
    "    ]"
   ],
   "metadata": {
    "collapsed": false
   },
   "id": "24688904385d52a8",
   "outputs": [],
   "execution_count": null
  },
  {
   "cell_type": "code",
   "source": [
    "similarities = torch.stack([x for _, x in nomino_vectors]) @ torch.stack([x for _, x in synset_vectors]).t()\n",
    "\n",
    "\n",
    "with open('../data/sim_matrix.p', 'wb') as f:\n",
    "    pickle.dump(([n for n, _ in nomino_vectors], [s for s, _ in synset_vectors], similarities), f)\n"
   ],
   "metadata": {
    "collapsed": false
   },
   "id": "bab9818d1c99a49b",
   "outputs": [],
   "execution_count": null
  }
 ],
 "metadata": {
  "kernelspec": {
   "display_name": "Python 3",
   "language": "python",
   "name": "python3"
  },
  "language_info": {
   "codemirror_mode": {
    "name": "ipython",
    "version": 2
   },
   "file_extension": ".py",
   "mimetype": "text/x-python",
   "name": "python",
   "nbconvert_exporter": "python",
   "pygments_lexer": "ipython2",
   "version": "2.7.6"
  }
 },
 "nbformat": 4,
 "nbformat_minor": 5
}
