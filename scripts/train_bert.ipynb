{
 "cells": [
  {
   "cell_type": "code",
   "id": "initial_id",
   "metadata": {
    "collapsed": true
   },
   "source": [
    "import numpy as np\n",
    "\n",
    "from tokenization import make_cfn\n",
    "from model_wrappers import Classifier\n",
    "import torch\n",
    "from torch.utils.data import DataLoader\n",
    "from torch.optim import AdamW\n",
    "from random import seed, shuffle\n",
    "from sklearn.metrics import confusion_matrix, f1_score\n",
    "import seaborn as sns\n",
    "from matplotlib import pyplot as plt\n",
    "import pickle\n",
    "\n",
    "from tqdm import tqdm\n",
    "\n",
    "DEVICE = 'cuda'\n",
    "NUM_EPOCHS = 15\n",
    "\n",
    "with open('../data/tokenized.p', 'rb') as f:\n",
    "    (tokenized, classes) = pickle.load(f)\n",
    "tokenized = [(nom, tokens, label) for nom, tokens, label in tokenized if len(tokens) <= 120]\n",
    "seed(42)\n",
    "shuffle(tokenized)\n",
    "print(f'Read {len(tokenized)} data points with {(nc := len(set(y for _, _, y in tokenized)))} classes.')\n",
    "split_point = int(len(tokenized) * 0.75)\n",
    "train, dev = tokenized[:split_point], tokenized[split_point:]\n",
    "print(f'Training on {len(train)} entries, evaluating on {len(dev)}.')\n",
    "\n",
    "train_dl = DataLoader([(ts, y) for _, ts, y in train], batch_size=32, shuffle=True, collate_fn=make_cfn(DEVICE))  # noqa\n",
    "dev_dl = DataLoader([(ts, y) for _, ts, y in dev], batch_size=512, shuffle=False, collate_fn=make_cfn(DEVICE))  # noqa\n",
    "\n",
    "output = []\n",
    "f1s = []\n",
    "for it in range(3):\n",
    "    model = Classifier(nc, False).to(DEVICE)\n",
    "    optim = AdamW(model.parameters(), lr=5e-5)\n",
    "    best_loss, best_epoch = 1e10, 0\n",
    "    for epoch in tqdm(range(NUM_EPOCHS)):\n",
    "        model.train()\n",
    "        _ = model.train_epoch(train_dl, optim)\n",
    "        with torch.no_grad():\n",
    "            model.eval()\n",
    "            epoch_loss, _, _ = model.eval_epoch(dev_dl)\n",
    "        if epoch_loss < best_loss:\n",
    "            best_loss = epoch_loss\n",
    "            best_epoch = epoch\n",
    "            torch.save(model.state_dict(), f'../data/weights_{it}.pt')\n",
    "\n",
    "    print(f'Best epoch was {best_epoch}')\n",
    "    model.load_state_dict(torch.load(f'../data/weights_{it}.pt'))\n",
    "    with torch.no_grad():\n",
    "        model.eval()\n",
    "        epoch_loss, predictions, truth = model.eval_epoch(dev_dl)\n",
    "    print(f'\\tDev loss: {epoch_loss}')\n",
    "    print(f'\\tDev F1 (M): {f1_score(truth, predictions, average=\"macro\")}')\n",
    "    print(f'\\tDev F1 (m): {f1_score(truth, predictions, average=\"micro\")}')\n",
    "    print(f'\\tDev F1 (-): {(f1 := f1_score(truth, predictions, average=None))}')\n",
    "    f1s.append(f1)\n",
    "    output.append(predictions)\n",
    "\n",
    "\n",
    "with open('../data/results.pt', 'wb') as f:\n",
    "    pickle.dump((dev, output), f)"
   ],
   "outputs": [],
   "execution_count": null
  },
  {
   "cell_type": "code",
   "source": [
    "f1s = np.array(f1s)\n",
    "\n",
    "f1_means = f1s.mean(axis=0)\n",
    "f1_stds = f1s.std(axis=0)\n",
    "print(f1_means * 100)\n",
    "print(f1_stds * 200)"
   ],
   "metadata": {
    "collapsed": false
   },
   "id": "c9d9bce54e404b72",
   "outputs": [],
   "execution_count": null
  },
  {
   "cell_type": "code",
   "source": [
    "cms = np.array([confusion_matrix(truth, output[i]) for i in range(len(output))])\n",
    "mus = cms.mean(0)\n",
    "stds = cms.std(0)\n",
    "labels = [f'{mu:.0f}±{std:.0f}' for mu, std in zip(mus.flatten(), stds.flatten())]\n",
    "labels = np.asarray(labels).reshape(mus.shape)\n",
    "plt.figure(figsize=(6, 6))\n",
    "sns.heatmap(\n",
    "    mus,\n",
    "    annot=labels,\n",
    "    fmt='',\n",
    "    cmap=sns.light_palette('seagreen', as_cmap=True),\n",
    "    xticklabels=classes,\n",
    "    yticklabels=classes,\n",
    "    annot_kws={'size': 8},\n",
    "    cbar=False,\n",
    ")\n",
    "plt.xlabel('Predicted', fontsize=12)\n",
    "plt.ylabel('True', fontsize=12)\n",
    "plt.tight_layout()\n",
    "plt.savefig('../data/trained.pdf')\n",
    "plt.show()\n"
   ],
   "metadata": {
    "collapsed": false
   },
   "id": "6c2128da336a8037",
   "outputs": [],
   "execution_count": null
  }
 ],
 "metadata": {
  "kernelspec": {
   "display_name": "Python 3",
   "language": "python",
   "name": "python3"
  },
  "language_info": {
   "codemirror_mode": {
    "name": "ipython",
    "version": 2
   },
   "file_extension": ".py",
   "mimetype": "text/x-python",
   "name": "python",
   "nbconvert_exporter": "python",
   "pygments_lexer": "ipython2",
   "version": "2.7.6"
  }
 },
 "nbformat": 4,
 "nbformat_minor": 5
}
